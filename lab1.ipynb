{
 "cells": [
  {
   "cell_type": "markdown",
   "metadata": {},
   "source": [
    "# Hourglass Network\n",
    "## For keypoints extraction"
   ]
  },
  {
   "cell_type": "code",
   "execution_count": null,
   "metadata": {},
   "outputs": [],
   "source": [
    "import os\n",
    "import cv2\n",
    "import numpy as np\n"
   ]
  },
  {
   "cell_type": "markdown",
   "metadata": {},
   "source": [
    "### Path to data"
   ]
  },
  {
   "cell_type": "code",
   "execution_count": null,
   "metadata": {},
   "outputs": [],
   "source": [
    "IMAGES_PATH = \"YCB-Video_data/keypoints/0010_gt_keypoints\"\n",
    "IMAGES = [f\"{IMAGES_PATH}/{f}\" for f in os.listdir(IMAGES_PATH)]\n",
    "sample = cv2.imread(IMAGES[0])\n",
    "DIM = sample.shape\n",
    "\n",
    "KEYPOINTS_PATH = \"YCB-Video_data/keypoints/0010_gt_keypoints2d.npy\"\n",
    "KEYPOINTS = np.load(KEYPOINTS_PATH)\n",
    "# cv2.imshow(\"\", sample)\n",
    "# cv2.waitKey()\n",
    "# cv2.destroyAllWindows()\n"
   ]
  },
  {
   "cell_type": "code",
   "execution_count": null,
   "metadata": {},
   "outputs": [],
   "source": [
    "def batchgen(images: list[str], keypoints: np.ndarray, dataset_size: int, batch_size: int) -> tuple[np.ndarray, np.ndarray]:\n",
    "    for i in range(0, dataset_size, batch_size):\n",
    "        x_batch = np.array([cv2.imread(img) for img in images[i:i+batch_size]])\n",
    "        y_batch = keypoints[i:i+batch_size]\n",
    "        yield x_batch, y_batch\n"
   ]
  },
  {
   "cell_type": "code",
   "execution_count": null,
   "metadata": {},
   "outputs": [],
   "source": [
    "from hourglass import create_hourglass_network\n",
    "\n",
    "\n",
    "class HourglassNetwork:\n",
    "    def __init__(self,\n",
    "                 num_classes: int,\n",
    "                 num_stacks: int,\n",
    "                 num_filters: int,\n",
    "                 inres: tuple[int, int],\n",
    "                 outers: tuple[int, int]) -> None:\n",
    "        self.inres = inres\n",
    "        self.outres = outers\n",
    "        self.model = create_hourglass_network(num_classes,\n",
    "                                              num_stacks,\n",
    "                                              num_filters,\n",
    "                                              inres)\n",
    "\n",
    "    def summary(self) -> None:\n",
    "        self.model.summary()\n",
    "\n",
    "    def fit(self, data_generator: int, dataset_size: int, batch_size: int, epochs: int) -> None:\n",
    "        self.model.fit(data_generator,\n",
    "                       steps_per_epoch=dataset_size//batch_size,\n",
    "                       epochs=epochs)\n"
   ]
  },
  {
   "cell_type": "code",
   "execution_count": null,
   "metadata": {},
   "outputs": [],
   "source": [
    "num_classes = 25\n",
    "num_stacks = 8\n",
    "num_filters = 256\n",
    "\n",
    "net = HourglassNetwork(num_classes, num_stacks,\n",
    "                       num_filters, (480, 480), (25, 25))\n",
    "# net.summary()\n",
    "net.fit(data_generator=batchgen(IMAGES, KEYPOINTS, dataset_size=KEYPOINTS.shape[0], batch_size=8),\n",
    "        dataset_size=len(IMAGES),\n",
    "        batch_size=8,\n",
    "        epochs=10)\n"
   ]
  }
 ],
 "metadata": {
  "interpreter": {
   "hash": "dea41a0b5387599001cc6b5b190e2b3fe587c5cfd372c1b28b23eb867c4ea1d3"
  },
  "kernelspec": {
   "display_name": "Python 3.10.0 ('venv': venv)",
   "language": "python",
   "name": "python3"
  },
  "language_info": {
   "codemirror_mode": {
    "name": "ipython",
    "version": 3
   },
   "file_extension": ".py",
   "mimetype": "text/x-python",
   "name": "python",
   "nbconvert_exporter": "python",
   "pygments_lexer": "ipython3",
   "version": "3.10.0"
  },
  "orig_nbformat": 4
 },
 "nbformat": 4,
 "nbformat_minor": 2
}
