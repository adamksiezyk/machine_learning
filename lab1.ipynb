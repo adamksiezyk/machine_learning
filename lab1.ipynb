{
 "cells": [
  {
   "cell_type": "markdown",
   "metadata": {},
   "source": [
    "# Hourglass Network\n",
    "## For keypoints extraction"
   ]
  },
  {
   "cell_type": "code",
   "execution_count": 3,
   "metadata": {},
   "outputs": [],
   "source": [
    "import os\n",
    "import cv2\n",
    "import numpy as np\n",
    "import keras.models as km\n",
    "import keras.layers as kl\n"
   ]
  },
  {
   "cell_type": "markdown",
   "metadata": {},
   "source": [
    "### Path to data"
   ]
  },
  {
   "cell_type": "code",
   "execution_count": 4,
   "metadata": {},
   "outputs": [],
   "source": [
    "DATA_PATH = \"YCB-Video_data/data/0010\"\n",
    "DATA_EXT = \"-color.png\"\n",
    "IMAGES = [f for f in os.listdir(DATA_PATH) if f.endswith(DATA_EXT)]\n",
    "sample = cv2.imread(f\"{DATA_PATH}/{IMAGES[0]}\")\n",
    "DIM = sample.shape\n",
    "# cv2.imshow(\"\", sample)\n",
    "# cv2.waitKey()\n",
    "# cv2.destroyAllWindows()"
   ]
  },
  {
   "cell_type": "code",
   "execution_count": 5,
   "metadata": {},
   "outputs": [],
   "source": [
    "def ResidualBottleneck(num_filters: int):\n",
    "    # Residual Bottleneck Layer:\n",
    "    # 3 conv\n",
    "    # 1 add skip\n",
    "\n",
    "    def inner(x):\n",
    "        # Skip layer\n",
    "        skip = kl.Conv2D(num_filters,\n",
    "                         kernel_size=(1, 1),\n",
    "                         padding=\"same\",\n",
    "                         activation=\"relu\")(x)\n",
    "        # 1st ConvLayer  num_filters -> num_filters/2\n",
    "        _x = kl.Conv2D(num_filters//2,\n",
    "                       kernel_size=(1, 1),\n",
    "                       padding=\"same\",\n",
    "                       activation=\"relu\")(x)\n",
    "        _x = kl.BatchNormalization()(_x)\n",
    "        # 2nd ConvLayer num_filters/2 -> num_filters/4\n",
    "        _x = kl.Conv2D(num_filters//2,\n",
    "                       kernel_size=(3, 3),\n",
    "                       padding=\"same\",\n",
    "                       activation=\"relu\")(_x)\n",
    "        _x = kl.BatchNormalization()(_x)\n",
    "        # 3rd ConvLayer num_filters/4 -> num_filters/4\n",
    "        _x = kl.Conv2D(num_filters,\n",
    "                       kernel_size=(1, 1),\n",
    "                       padding=\"same\",\n",
    "                       activation=\"relu\")(_x)\n",
    "        _x = kl.BatchNormalization()(_x)\n",
    "        return kl.Add()([skip, _x])\n",
    "\n",
    "    return inner\n"
   ]
  },
  {
   "cell_type": "code",
   "execution_count": 9,
   "metadata": {},
   "outputs": [],
   "source": [
    "def Front(num_filters: int):\n",
    "    # Front layer - reduces the resolution to 1/4:\n",
    "    # 1 7x7 conv\n",
    "    # 3 residual\n",
    "\n",
    "    def inner(x):\n",
    "        _x = kl.Conv2D(num_filters//4,\n",
    "                       (7, 7),\n",
    "                       (2, 2),\n",
    "                       padding=\"same\",\n",
    "                       activation=\"relu\",\n",
    "                       data_format=\"channels_last\")(x)\n",
    "        _x = kl.BatchNormalization()(_x)\n",
    "\n",
    "        _x = ResidualBottleneck(num_filters//2)(_x)\n",
    "        _x = kl.MaxPool2D(pool_size=(2, 2), strides=(2, 2))(_x)\n",
    "\n",
    "        _x = ResidualBottleneck(num_filters//2)(_x)\n",
    "        return ResidualBottleneck(num_filters)(_x)\n",
    "\n",
    "    return inner\n"
   ]
  },
  {
   "cell_type": "code",
   "execution_count": 10,
   "metadata": {},
   "outputs": [
    {
     "data": {
      "text/plain": [
       "TensorShape([None, 120, 160, 256])"
      ]
     },
     "execution_count": 10,
     "metadata": {},
     "output_type": "execute_result"
    }
   ],
   "source": [
    "num_filters = 256\n",
    "\n",
    "# Input layer\n",
    "input = kl.Input(DIM)\n",
    "Front(num_filters)(input).shape"
   ]
  }
 ],
 "metadata": {
  "interpreter": {
   "hash": "dea41a0b5387599001cc6b5b190e2b3fe587c5cfd372c1b28b23eb867c4ea1d3"
  },
  "kernelspec": {
   "display_name": "Python 3.10.0 ('venv': venv)",
   "language": "python",
   "name": "python3"
  },
  "language_info": {
   "codemirror_mode": {
    "name": "ipython",
    "version": 3
   },
   "file_extension": ".py",
   "mimetype": "text/x-python",
   "name": "python",
   "nbconvert_exporter": "python",
   "pygments_lexer": "ipython3",
   "version": "3.10.0"
  },
  "orig_nbformat": 4
 },
 "nbformat": 4,
 "nbformat_minor": 2
}
